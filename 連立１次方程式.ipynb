{
 "cells": [
  {
   "cell_type": "markdown",
   "metadata": {},
   "source": [
    "# 連立１次方程式"
   ]
  },
  {
   "cell_type": "code",
   "execution_count": 64,
   "metadata": {},
   "outputs": [],
   "source": [
    "using BenchmarkTools"
   ]
  },
  {
   "cell_type": "code",
   "execution_count": 39,
   "metadata": {},
   "outputs": [
    {
     "data": {
      "text/plain": [
       "2×2 Array{Int64,2}:\n",
       " 1  2\n",
       " 3  4"
      ]
     },
     "execution_count": 39,
     "metadata": {},
     "output_type": "execute_result"
    }
   ],
   "source": [
    "A = [1 2 ; 3 4]"
   ]
  },
  {
   "cell_type": "code",
   "execution_count": 46,
   "metadata": {},
   "outputs": [
    {
     "data": {
      "text/plain": [
       "2-element Array{Int64,1}:\n",
       " 2\n",
       " 3"
      ]
     },
     "execution_count": 46,
     "metadata": {},
     "output_type": "execute_result"
    }
   ],
   "source": [
    "b = [2,3]"
   ]
  },
  {
   "cell_type": "code",
   "execution_count": 54,
   "metadata": {
    "scrolled": true
   },
   "outputs": [
    {
     "data": {
      "text/plain": [
       "2-element Array{Float64,1}:\n",
       " -1.0\n",
       "  1.5"
      ]
     },
     "execution_count": 54,
     "metadata": {},
     "output_type": "execute_result"
    }
   ],
   "source": [
    "c = A \\ b"
   ]
  },
  {
   "cell_type": "code",
   "execution_count": 56,
   "metadata": {},
   "outputs": [
    {
     "data": {
      "text/plain": [
       "2-element Array{Float64,1}:\n",
       " 2.0\n",
       " 3.0"
      ]
     },
     "execution_count": 56,
     "metadata": {},
     "output_type": "execute_result"
    }
   ],
   "source": [
    "A * c"
   ]
  },
  {
   "cell_type": "code",
   "execution_count": 49,
   "metadata": {},
   "outputs": [
    {
     "data": {
      "text/plain": [
       "2×2 Array{Int64,2}:\n",
       " 1  3\n",
       " 2  4"
      ]
     },
     "execution_count": 49,
     "metadata": {},
     "output_type": "execute_result"
    }
   ],
   "source": [
    "A'"
   ]
  },
  {
   "cell_type": "code",
   "execution_count": 51,
   "metadata": {},
   "outputs": [
    {
     "data": {
      "text/plain": [
       "2×2 Array{Float64,2}:\n",
       " 1.0  0.0\n",
       " 0.0  1.0"
      ]
     },
     "execution_count": 51,
     "metadata": {},
     "output_type": "execute_result"
    }
   ],
   "source": [
    "E = eye(2)"
   ]
  },
  {
   "cell_type": "code",
   "execution_count": 57,
   "metadata": {},
   "outputs": [
    {
     "data": {
      "text/plain": [
       "2-element Array{Float64,1}:\n",
       " -1.0\n",
       "  1.5"
      ]
     },
     "execution_count": 57,
     "metadata": {},
     "output_type": "execute_result"
    }
   ],
   "source": [
    "E \\ c"
   ]
  },
  {
   "cell_type": "code",
   "execution_count": 4,
   "metadata": {},
   "outputs": [
    {
     "name": "stdout",
     "output_type": "stream",
     "text": [
      "[1.0]\n",
      "[1.0 0.0; 0.0 1.0]\n",
      "[1.0 0.0 0.0; 0.0 1.0 0.0; 0.0 0.0 1.0]\n"
     ]
    }
   ],
   "source": [
    "for i in 1:3\n",
    "    E =  eye(i)\n",
    "    println(E)\n",
    "end\n"
   ]
  },
  {
   "cell_type": "code",
   "execution_count": 50,
   "metadata": {},
   "outputs": [
    {
     "data": {
      "text/plain": [
       "3×3 Array{Bool,2}:\n",
       " false   true  false\n",
       " false  false   true\n",
       " false  false  false"
      ]
     },
     "execution_count": 50,
     "metadata": {},
     "output_type": "execute_result"
    }
   ],
   "source": [
    "r = 3.0\n",
    "A = [(i==j-1) for i in 1.0:3.0, j in 1.0:3.0]\n",
    "A[end]=0\n",
    "A"
   ]
  },
  {
   "cell_type": "code",
   "execution_count": 77,
   "metadata": {},
   "outputs": [
    {
     "data": {
      "text/plain": [
       "BenchmarkTools.Trial: \n",
       "  memory estimate:  78.20 KiB\n",
       "  allocs estimate:  2\n",
       "  --------------\n",
       "  minimum time:     24.636 μs (0.00% GC)\n",
       "  median time:      31.659 μs (0.00% GC)\n",
       "  mean time:        48.271 μs (20.46% GC)\n",
       "  maximum time:     5.086 ms (83.02% GC)\n",
       "  --------------\n",
       "  samples:          10000\n",
       "  evals/sample:     1"
      ]
     },
     "execution_count": 77,
     "metadata": {},
     "output_type": "execute_result"
    }
   ],
   "source": [
    "function iniArray()\n",
    "    n = 100\n",
    "    A = zeros(Float64,(n,n))\n",
    "    for i in 1:n, j in 1:n\n",
    "        if i==j\n",
    "            A[i,j] = 2 \n",
    "        elseif i==j-1\n",
    "            A[i,j] = 3\n",
    "        elseif i==j+1\n",
    "            A[i,j] = 4\n",
    "        end\n",
    "    end\n",
    "end\n",
    "a = @benchmark iniArray()"
   ]
  },
  {
   "cell_type": "code",
   "execution_count": 101,
   "metadata": {},
   "outputs": [
    {
     "name": "stdout",
     "output_type": "stream",
     "text": [
      "  0.135647 seconds (4.46 k allocations: 219.881 KiB)\n"
     ]
    },
    {
     "data": {
      "text/plain": [
       "10×10 Array{Float64,2}:\n",
       " 10.0  1.0  0.0  0.0  0.0  0.0  0.0  0.0  0.0  0.0\n",
       "  4.0  3.0  2.0  0.0  0.0  0.0  0.0  0.0  0.0  0.0\n",
       "  0.0  4.0  3.0  2.0  0.0  0.0  0.0  0.0  0.0  0.0\n",
       "  0.0  0.0  4.0  3.0  2.0  0.0  0.0  0.0  0.0  0.0\n",
       "  0.0  0.0  0.0  4.0  3.0  2.0  0.0  0.0  0.0  0.0\n",
       "  0.0  0.0  0.0  0.0  4.0  3.0  2.0  0.0  0.0  0.0\n",
       "  0.0  0.0  0.0  0.0  0.0  4.0  3.0  2.0  0.0  0.0\n",
       "  0.0  0.0  0.0  0.0  0.0  0.0  4.0  3.0  2.0  0.0\n",
       "  0.0  0.0  0.0  0.0  0.0  0.0  0.0  4.0  3.0  2.0\n",
       "  0.0  0.0  0.0  0.0  0.0  0.0  0.0  0.0  0.0  1.0"
      ]
     },
     "execution_count": 101,
     "metadata": {},
     "output_type": "execute_result"
    }
   ],
   "source": [
    "function CalcArray(n)\n",
    "    A = zeros(Float64,(n,n))\n",
    "    b = zeros(Float64, n)\n",
    "    b[end] = 1\n",
    "    \n",
    "    for i in 1:n    \n",
    "        if i+1<=n\n",
    "            A[i,i+1] = 2\n",
    "        end\n",
    "        \n",
    "        A[i,i] = 3        \n",
    "        \n",
    "        if i-1>0\n",
    "            A[i,i-1] = 4\n",
    "        end\n",
    "    end\n",
    "\n",
    "    A[1,1] = 10\n",
    "    A[1,2] = 1\n",
    "    A[end,1:end-1] = 0\n",
    "    A[end,end] = 1\n",
    "\n",
    "    return A\n",
    "    end\n",
    "# @benchmark \n",
    "@time CalcArray(10)"
   ]
  },
  {
   "cell_type": "code",
   "execution_count": 108,
   "metadata": {},
   "outputs": [
    {
     "data": {
      "text/plain": [
       "4×4 SymTridiagonal{Int64}:\n",
       " 1  7  ⋅  ⋅\n",
       " 7  2  8  ⋅\n",
       " ⋅  8  3  9\n",
       " ⋅  ⋅  9  4"
      ]
     },
     "execution_count": 108,
     "metadata": {},
     "output_type": "execute_result"
    }
   ],
   "source": [
    "dv = [1;2;3;4]\n",
    "ev = [7;8;9]\n",
    "ST = SymTridiagonal(dv,ev)"
   ]
  },
  {
   "cell_type": "code",
   "execution_count": 116,
   "metadata": {},
   "outputs": [
    {
     "data": {
      "text/plain": [
       "9.0"
      ]
     },
     "execution_count": 116,
     "metadata": {},
     "output_type": "execute_result"
    }
   ],
   "source": [
    "x = [1,2,3,4]\n",
    "norm(x[2:4],1)"
   ]
  },
  {
   "cell_type": "code",
   "execution_count": 3,
   "metadata": {},
   "outputs": [
    {
     "data": {
      "text/plain": [
       "3×3 Array{Int64,2}:\n",
       " 1  2  3\n",
       " 4  5  6\n",
       " 7  8  9"
      ]
     },
     "execution_count": 3,
     "metadata": {},
     "output_type": "execute_result"
    }
   ],
   "source": [
    "F = [1 2 3;4 5 6;7 8 9]"
   ]
  },
  {
   "cell_type": "code",
   "execution_count": 132,
   "metadata": {},
   "outputs": [
    {
     "data": {
      "text/plain": [
       "3-element Array{Int64,1}:\n",
       " 1\n",
       " 1\n",
       " 1"
      ]
     },
     "execution_count": 132,
     "metadata": {},
     "output_type": "execute_result"
    }
   ],
   "source": [
    "i = [1;1;1]"
   ]
  },
  {
   "cell_type": "code",
   "execution_count": 139,
   "metadata": {},
   "outputs": [
    {
     "data": {
      "text/plain": [
       "3-element Array{Int64,1}:\n",
       " 12\n",
       " 15\n",
       " 18"
      ]
     },
     "execution_count": 139,
     "metadata": {},
     "output_type": "execute_result"
    }
   ],
   "source": [
    "G=F'*i\n"
   ]
  },
  {
   "cell_type": "code",
   "execution_count": 4,
   "metadata": {},
   "outputs": [
    {
     "data": {
      "text/plain": [
       "3×3 UpperTriangular{Int64,Array{Int64,2}}:\n",
       " 1  2  3\n",
       " ⋅  5  6\n",
       " ⋅  ⋅  9"
      ]
     },
     "execution_count": 4,
     "metadata": {},
     "output_type": "execute_result"
    }
   ],
   "source": [
    "UpperTriangular(F)"
   ]
  },
  {
   "cell_type": "code",
   "execution_count": 13,
   "metadata": {},
   "outputs": [
    {
     "data": {
      "text/plain": [
       "5×5 Array{Int64,2}:\n",
       " 0  1  1  1  1\n",
       " 0  0  1  1  1\n",
       " 0  0  0  1  1\n",
       " 0  0  0  0  1\n",
       " 0  0  0  0  0"
      ]
     },
     "execution_count": 13,
     "metadata": {},
     "output_type": "execute_result"
    }
   ],
   "source": [
    "C = fill(1,(5,5))\n",
    "C = UpperTriangular(C)-eye(C)"
   ]
  }
 ],
 "metadata": {
  "kernelspec": {
   "display_name": "Julia 0.6.2",
   "language": "julia",
   "name": "julia-0.6"
  },
  "language_info": {
   "file_extension": ".jl",
   "mimetype": "application/julia",
   "name": "julia",
   "version": "0.6.2"
  }
 },
 "nbformat": 4,
 "nbformat_minor": 2
}
